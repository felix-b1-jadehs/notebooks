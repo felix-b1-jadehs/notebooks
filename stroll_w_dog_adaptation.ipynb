{
 "cells": [
  {
   "cell_type": "code",
   "execution_count": 1,
   "id": "714f005a",
   "metadata": {},
   "outputs": [],
   "source": [
    "# apattion to: https://www.strollswithmydog.com/raw-file-conversion-steps/\n"
   ]
  },
  {
   "cell_type": "code",
   "execution_count": 2,
   "id": "1022ba02",
   "metadata": {},
   "outputs": [],
   "source": [
    "%matplotlib inline\n",
    "import matplotlib as mlp\n",
    "mlp.rcParams['figure.figsize'] = 10, 15\n",
    "import matplotlib.pyplot as plt\n",
    "import rawpy\n",
    "import numpy as np"
   ]
  },
  {
   "cell_type": "code",
   "execution_count": 3,
   "id": "f44b37f6",
   "metadata": {},
   "outputs": [],
   "source": [
    "# read dng file\n",
    "raw = rawpy.imread(\"./hq_cam_color_checker_new.dng\")\n",
    "# get the bayer matrix\n",
    "bayer = raw.raw_image_visible.copy()\n",
    "# close the raw object\n",
    "raw.close()"
   ]
  },
  {
   "cell_type": "code",
   "execution_count": 4,
   "id": "6fa61566",
   "metadata": {},
   "outputs": [],
   "source": [
    "# step 1: black level correction\n",
    "# step 2: White Balance the data\n",
    "# step 3: Correct linear brightness\n",
    "# step 4: Properly Clip image data\n",
    "# step 5: Demosaic it\n",
    "# step 6: Apply Color Transforms and Corrections\n",
    "# step 7: Apply Gamma"
   ]
  },
  {
   "cell_type": "code",
   "execution_count": 5,
   "id": "4adffdeb",
   "metadata": {},
   "outputs": [],
   "source": [
    "# step 1: black level correction\n",
    "# start linear conversion\n",
    "\n",
    "# black level correction\n",
    "black_level = 256\n",
    "\n",
    "# substract black level from bayer matrix\n",
    "bayer = bayer-256\n",
    "\n",
    "# normalize bayer data\n",
    "#bayer = bayer/(2**12)"
   ]
  },
  {
   "cell_type": "code",
   "execution_count": 6,
   "id": "a559d2d6",
   "metadata": {},
   "outputs": [
    {
     "name": "stdout",
     "output_type": "stream",
     "text": [
      "max:2695, min:2\n"
     ]
    }
   ],
   "source": [
    "print(f\"max:{np.max(bayer)}, min:{np.min(bayer)}\")"
   ]
  },
  {
   "cell_type": "code",
   "execution_count": 7,
   "id": "f123c7be",
   "metadata": {},
   "outputs": [],
   "source": [
    "# for step 2  \n",
    "def get_bayer_color(bayer, y1, y2, x1, x2):\n",
    "    red = []\n",
    "    green = []\n",
    "    blue = []\n",
    "    for y in range(y1, y2):\n",
    "        for x in range(x1, x2):\n",
    "            if y%2==0:\n",
    "                if x%2==0:\n",
    "                    blue.append(bayer[y][x])\n",
    "                else:\n",
    "                    green.append(bayer[y][x])\n",
    "            else:\n",
    "                if x%2==0:\n",
    "                    green.append(bayer[y][x])\n",
    "                else:\n",
    "                    red.append(bayer[y][x])\n",
    "    \n",
    "    return red, green, blue"
   ]
  },
  {
   "cell_type": "code",
   "execution_count": 8,
   "id": "90231245",
   "metadata": {},
   "outputs": [],
   "source": [
    "# for step 2  \n",
    "def correct_bayer_wb(bayer, wb):\n",
    "    # wb: [red, green, blue, green]\n",
    "    for y in range(bayer.shape[0]):\n",
    "        for x in range(bayer.shape[1]):\n",
    "            if y%2==0:\n",
    "                if x%2==0:\n",
    "                    # blue\n",
    "                    bayer[y][x] = bayer[y][x]*wb[2]\n",
    "                else:\n",
    "                    # green\n",
    "                    bayer[y][x] = bayer[y][x]*wb[1]\n",
    "            else:\n",
    "                if x%2==0:\n",
    "                    # green\n",
    "                    bayer[y][x] = bayer[y][x]*wb[1]\n",
    "                else:\n",
    "                    # red\n",
    "                    bayer[y][x] = bayer[y][x]*wb[0]\n",
    "    \n",
    "    return bayer\n",
    "    "
   ]
  },
  {
   "cell_type": "code",
   "execution_count": 9,
   "id": "66eb06b4",
   "metadata": {},
   "outputs": [
    {
     "name": "stdout",
     "output_type": "stream",
     "text": [
      "129.0 524.0 383.0\n",
      "[4.062015503875969, 1.0, 1.3681462140992167, 1.0]\n"
     ]
    },
    {
     "data": {
      "text/plain": [
       "array([[1663, 1688, 1663, ..., 1400, 1254, 1464],\n",
       "       [1642, 1563, 1653, ..., 1470, 1375, 1372],\n",
       "       [1618, 1713, 1637, ..., 1394, 1384, 1374],\n",
       "       ...,\n",
       "       [1399, 1356, 1347, ..., 1141, 1098, 1035],\n",
       "       [1325, 1442, 1284, ..., 1145, 1039, 1058],\n",
       "       [1386, 1344, 1305, ..., 1080, 1053, 1023]], dtype=uint16)"
      ]
     },
     "execution_count": 9,
     "metadata": {},
     "output_type": "execute_result"
    }
   ],
   "source": [
    "# step 2: White Balance the data\n",
    "\n",
    "# white balance\n",
    "# correct the white blance based on a gray card\n",
    "# in the raw image\n",
    "\n",
    "# define position of gray card\n",
    "#[2300,2800, 2050,2550]\n",
    "y1 = 2300\n",
    "y2 = 2800\n",
    "x1 = 2050\n",
    "x2 = 2550\n",
    "\n",
    "red, green, blue = get_bayer_color(bayer, y1, y2, x1, x2)\n",
    "\n",
    "red_median = np.median(red)\n",
    "green_median = np.median(green)\n",
    "blue_median = np.median(blue)\n",
    "print(red_median, green_median, blue_median)\n",
    "\n",
    "# wb: [red, green, blue, green]\n",
    "base_wb = [green_median/red_median, 1.0, green_median/blue_median, 1.0]\n",
    "print(base_wb)\n",
    "\n",
    "# multiply every pixel with the corresponding base wb value\n",
    "bayer_corr = correct_bayer_wb(bayer, base_wb)\n",
    "bayer_corr"
   ]
  },
  {
   "cell_type": "code",
   "execution_count": 10,
   "id": "578748f3",
   "metadata": {},
   "outputs": [],
   "source": [
    "# step 3: Correct linear brightness\n",
    "\n",
    "# correct linear brightness\n",
    "# output_bps=16\n",
    "# current dtype uint 16\n",
    "\n",
    "# migth not be necessary"
   ]
  },
  {
   "cell_type": "code",
   "execution_count": 11,
   "id": "6b0c82b7",
   "metadata": {},
   "outputs": [],
   "source": [
    "# step 4: Properly Clip image data\n",
    "\n",
    "# no clipping needed"
   ]
  },
  {
   "cell_type": "code",
   "execution_count": 12,
   "id": "4fa04cf8",
   "metadata": {},
   "outputs": [],
   "source": [
    "# for step 5\n",
    "def demosaic_raw_rgb(bayer):\n",
    "    rgb = np.zeros([bayer.shape[0],bayer.shape[1],3]) \n",
    "    for y in range(bayer.shape[0]):\n",
    "        for x in range(bayer.shape[1]):\n",
    "            # marginal condition\n",
    "            if y==3039 or x==4055:\n",
    "                if y%2==0:\n",
    "                    if x%2==0:\n",
    "                        # blue\n",
    "                        g = bayer[y-1][x]+bayer[y][x-1]\n",
    "                        rgb[y][x] = [bayer[y-1][x-1],g/2,bayer[y][x]]                  \n",
    "                    else:\n",
    "                        # green\n",
    "                        g = bayer[y][x]+bayer[y-1][x-1]\n",
    "                        rgb[y][x] = [bayer[y-1][x],g/2,bayer[y][x-1]]                    \n",
    "                else:\n",
    "                    if x%2==0:\n",
    "                        # green\n",
    "                        g = bayer[y][x]+bayer[y-1][x-1]\n",
    "                        rgb[y][x] = [bayer[y][x-1],g/2,bayer[y-1][x]] \n",
    "                    else:\n",
    "                        g = bayer[y-1][x]+bayer[y][x-1]\n",
    "                        rgb[y][x] = [bayer[y][x],g/2,bayer[y-1][x-1]]  \n",
    "                        # red\n",
    "            else:\n",
    "                if y%2==0:\n",
    "                    if x%2==0:\n",
    "                        # blue\n",
    "                        g = bayer[y+1][x]+bayer[y][x+1]\n",
    "                        rgb[y][x] = [bayer[y+1][x+1],g/2,bayer[y][x]]                  \n",
    "                    else:\n",
    "                        # green\n",
    "                        g = bayer[y][x]+bayer[y+1][x+1]\n",
    "                        rgb[y][x] = [bayer[y+1][x],g/2,bayer[y][x+1]]                    \n",
    "                else:\n",
    "                    if x%2==0:\n",
    "                        # green\n",
    "                        g = bayer[y][x]+bayer[y+1][x+1]\n",
    "                        rgb[y][x] = [bayer[y][x+1],g/2,bayer[y+1][x]] \n",
    "                    else:\n",
    "                        g = bayer[y+1][x]+bayer[y][x+1]\n",
    "                        rgb[y][x] = [bayer[y][x],g/2,bayer[y+1][x+1]]  \n",
    "                        # red\n",
    "                    \n",
    "    return rgb"
   ]
  },
  {
   "cell_type": "code",
   "execution_count": 13,
   "id": "160da0b5",
   "metadata": {},
   "outputs": [
    {
     "data": {
      "text/plain": [
       "array([[[1563. , 1665. , 1663. ],\n",
       "        [1563. , 1670.5, 1663. ],\n",
       "        [1608. , 1645. , 1663. ],\n",
       "        ...,\n",
       "        [1470. , 1387.5, 1254. ],\n",
       "        [1372. , 1419.5, 1254. ],\n",
       "        [1023. , 1258.5, 1254. ]],\n",
       "\n",
       "       [[1563. , 1677.5, 1618. ],\n",
       "        [1563. , 1683. , 1637. ],\n",
       "        [1608. , 1675. , 1637. ],\n",
       "        ...,\n",
       "        [1470. , 1384.5, 1384. ],\n",
       "        [1372. , 1374.5, 1384. ],\n",
       "        [1372. , 1419.5, 1254. ]],\n",
       "\n",
       "       [[1718. , 1690.5, 1618. ],\n",
       "        [1718. , 1725. , 1637. ],\n",
       "        [1677. , 1717. , 1637. ],\n",
       "        ...,\n",
       "        [1279. , 1409. , 1384. ],\n",
       "        [1344. , 1399. , 1384. ],\n",
       "        [1372. , 1374.5, 1384. ]],\n",
       "\n",
       "       ...,\n",
       "\n",
       "       [[1356. , 1420.5, 1325. ],\n",
       "        [1356. , 1394.5, 1284. ],\n",
       "        [1413. , 1365.5, 1284. ],\n",
       "        ...,\n",
       "        [1141. , 1121.5, 1039. ],\n",
       "        [1035. , 1078. , 1039. ],\n",
       "        [1035. , 1069. , 1050. ]],\n",
       "\n",
       "       [[1344. , 1414. , 1325. ],\n",
       "        [1344. , 1373.5, 1284. ],\n",
       "        [1502. , 1344.5, 1284. ],\n",
       "        ...,\n",
       "        [1080. , 1099. , 1039. ],\n",
       "        [1023. , 1055.5, 1039. ],\n",
       "        [1035. , 1078. , 1039. ]],\n",
       "\n",
       "       [[1023. , 1222. , 1325. ],\n",
       "        [1344. , 1414. , 1325. ],\n",
       "        [1344. , 1373.5, 1284. ],\n",
       "        ...,\n",
       "        [1080. , 1101. , 1054. ],\n",
       "        [1080. , 1099. , 1039. ],\n",
       "        [1023. , 1055.5, 1039. ]]])"
      ]
     },
     "execution_count": 13,
     "metadata": {},
     "output_type": "execute_result"
    }
   ],
   "source": [
    "# step 5: Demosaic it\n",
    "\n",
    "# take four bayerpixel to one RGB pixel\n",
    "# R, G stay constant G is average of both green channels\n",
    "\n",
    "rgb_array = demosaic_raw_rgb(bayer)\n",
    "rgb_array"
   ]
  },
  {
   "cell_type": "code",
   "execution_count": 14,
   "id": "ddd48f1c",
   "metadata": {},
   "outputs": [
    {
     "data": {
      "text/plain": [
       "array([[[ 417.09081577, 1625.10461469, 1117.51777932],\n",
       "        [ 416.55107264, 1629.99348165, 1118.08109351],\n",
       "        [ 436.18423582, 1597.38275212, 1118.42498809],\n",
       "        ...,\n",
       "        [ 412.4911738 , 1278.35494543,  875.33266426],\n",
       "        [ 372.04395365, 1328.45544283,  872.17343636],\n",
       "        [ 254.98547349, 1262.46749407,  832.7611874 ]],\n",
       "\n",
       "       [[ 416.25706238, 1622.94283439, 1095.95090467],\n",
       "        [ 415.55141314, 1633.43579002, 1106.16078663],\n",
       "        [ 433.46721183, 1616.38054627, 1108.29704454],\n",
       "        ...,\n",
       "        [ 411.65043204, 1314.03205528,  941.02823403],\n",
       "        [ 375.32488668, 1326.79938679,  933.56733411],\n",
       "        [ 372.04395365, 1328.45544283,  872.17343636]],\n",
       "\n",
       "       [[ 473.98711159, 1600.24621585, 1107.4628573 ],\n",
       "        [ 470.43554406, 1636.51683363, 1120.64294136],\n",
       "        [ 455.61263765, 1638.46599321, 1117.13067338],\n",
       "        ...,\n",
       "        [ 336.53574183, 1378.01718927,  930.99256077],\n",
       "        [ 362.2614631 , 1354.76454704,  934.23758784],\n",
       "        [ 375.32488668, 1326.79938679,  933.56733411]],\n",
       "\n",
       "       ...,\n",
       "\n",
       "       [[ 365.23493171, 1353.82162516,  907.27266916],\n",
       "        [ 368.1444526 , 1318.61758428,  883.79345154],\n",
       "        [ 392.68928008, 1280.24398038,  884.56703986],\n",
       "        ...,\n",
       "        [ 315.22789157, 1051.19976576,  717.32131602],\n",
       "        [ 279.14441158, 1035.95730453,  705.90387629],\n",
       "        [ 279.93157669, 1031.2018128 ,  710.56694445]],\n",
       "\n",
       "       [[ 361.30461854, 1350.69565051,  905.8187678 ],\n",
       "        [ 365.63709857, 1302.60277854,  880.85444913],\n",
       "        [ 428.63087042, 1241.91004981,  888.26177135],\n",
       "        ...,\n",
       "        [ 294.21429197, 1044.67972294,  711.01033632],\n",
       "        [ 276.78426023, 1018.60917144,  702.81124274],\n",
       "        [ 279.14441158, 1035.95730453,  705.90387629]],\n",
       "\n",
       "       [[ 257.94744019, 1250.96478964,  865.07053016],\n",
       "        [ 361.30461854, 1350.69565051,  905.8187678 ],\n",
       "        [ 365.63709857, 1302.60277854,  880.85444913],\n",
       "        ...,\n",
       "        [ 293.88704323, 1050.88177327,  718.83088923],\n",
       "        [ 294.21429197, 1044.67972294,  711.01033632],\n",
       "        [ 276.78426023, 1018.60917144,  702.81124274]]])"
      ]
     },
     "execution_count": 14,
     "metadata": {},
     "output_type": "execute_result"
    }
   ],
   "source": [
    "# step 6: Apply Color Transforms and Corrections\n",
    "\n",
    "# apply color transformation\n",
    "# output_color=ColorSpace.sRGB\n",
    "# maybe create other color spaces as well like HSV and XYZ\n",
    "\n",
    "# forward matrix\n",
    "# raw white-balanced demosaiced data: rgb to XYZ\n",
    "# table from dng meta data\n",
    "CM = np.array([[0.3806826174, -0.09813511372, -0.008731900714 ],\n",
    "                [-0.220981434, 0.888884902, 0.294952035 ],\n",
    "                [0.06568053365, 0.1024207622, 0.5077140927]])\n",
    "\n",
    "XYZ = np.zeros(rgb_array.shape)\n",
    "for y in range(rgb_array.shape[0]):\n",
    "    for x in range(rgb_array.shape[1]):\n",
    "        pix = rgb_array[y,x,:]\n",
    "        XYZ_pix = CM.dot(pix)\n",
    "        XYZ[y,x,:] = XYZ_pix\n",
    "        \n",
    "XYZ"
   ]
  },
  {
   "cell_type": "code",
   "execution_count": 15,
   "id": "da36e9f4",
   "metadata": {},
   "outputs": [
    {
     "data": {
      "text/plain": [
       "array([[[1703.68068091, 2690.62893269,  872.92690978],\n",
       "        [1713.22580723, 2700.34580399,  872.49494033],\n",
       "        [1599.64483102, 2620.16629735,  880.60459291],\n",
       "        ...,\n",
       "        [1064.80919072, 2034.60181392,  687.41797564],\n",
       "        [1271.32174588, 2167.63853058,  671.60526011],\n",
       "        [1529.57383454, 2155.6406894 ,  636.88789716]],\n",
       "\n",
       "       [[1692.30620976, 2686.48666356,  850.5252864 ],\n",
       "        [1715.81335522, 2707.27676337,  859.13726401],\n",
       "        [1632.60323549, 2658.01457451,  865.87246834],\n",
       "        ...,\n",
       "        [1155.13236278, 2105.0658974 ,  749.53323316],\n",
       "        [1288.7548624 , 2163.90105141,  737.01919344],\n",
       "        [1271.32174588, 2167.63853058,  671.60526011]],\n",
       "\n",
       "       [[1476.07682982, 2588.45544784,  870.53909425],\n",
       "        [1549.91282315, 2660.47995996,  876.87341476],\n",
       "        [1599.19296493, 2678.35234839,  871.93768306],\n",
       "        ...,\n",
       "        [1491.90318916, 2297.45135464,  721.68867095],\n",
       "        [1374.41042568, 2229.04306564,  731.29512625],\n",
       "        [1288.7548624 , 2163.90105141,  737.01919344]],\n",
       "\n",
       "       ...,\n",
       "\n",
       "       [[1349.88043535, 2223.27429492,  703.15118547],\n",
       "        [1274.62945241, 2153.4451327 ,  685.6773371 ],\n",
       "        [1136.48729167, 2057.71454707,  695.69038203],\n",
       "        ...,\n",
       "        [ 952.03318266, 1696.18505109,  561.32207238],\n",
       "        [1039.84186109, 1702.08070233,  550.35345084],\n",
       "        [1032.30583771, 1692.59118398,  556.2962793 ]],\n",
       "\n",
       "       [[1357.08684475, 2221.15833518,  702.03319212],\n",
       "        [1256.67143787, 2125.71196682,  685.6981723 ],\n",
       "        [ 962.93024908, 1951.13728459,  709.41778163],\n",
       "        ...,\n",
       "        [1006.96058923, 1704.05292576,  554.81099807],\n",
       "        [1019.28063028, 1671.69748063,  550.4920959 ],\n",
       "        [1039.84186109, 1702.08070233,  550.35345084]],\n",
       "\n",
       "       [[1518.40276629, 2132.5349046 ,  673.55040571],\n",
       "        [1357.08684475, 2221.15833518,  702.03319212],\n",
       "        [1256.67143787, 2125.71196682,  685.6981723 ],\n",
       "        ...,\n",
       "        [1021.45419094, 1716.32835602,  561.79387648],\n",
       "        [1006.96058923, 1704.05292576,  554.81099807],\n",
       "        [1019.28063028, 1671.69748063,  550.4920959 ]]])"
      ]
     },
     "execution_count": 15,
     "metadata": {},
     "output_type": "execute_result"
    }
   ],
   "source": [
    "# step 6.2\n",
    "\n",
    "# convert XYZ to sRGB\n",
    "TM = np.array([[3.2406, -1.5372, -0.4986],\n",
    "                [-0.9689, 1.8758, 0.0415],\n",
    "                [0.0557, -0.2040, 1.0570]])\n",
    "\n",
    "sRGB = np.zeros(XYZ.shape)\n",
    "for y in range(XYZ.shape[0]):\n",
    "    for x in range(XYZ.shape[1]):\n",
    "        pix = XYZ[y,x,:]\n",
    "        sRGB_pix = TM.dot(pix)\n",
    "        sRGB[y,x,:] = sRGB_pix\n",
    "        \n",
    "abs(sRGB)"
   ]
  },
  {
   "cell_type": "code",
   "execution_count": 16,
   "id": "9f00d803",
   "metadata": {},
   "outputs": [],
   "source": [
    "# step 7: Apply Gamma\n",
    "\n",
    "# start non linear conversion\n",
    "# apply gamma\n",
    "\n"
   ]
  },
  {
   "cell_type": "code",
   "execution_count": 17,
   "id": "10dadc1e",
   "metadata": {},
   "outputs": [
    {
     "data": {
      "text/plain": [
       "4246.19169980875"
      ]
     },
     "execution_count": 17,
     "metadata": {},
     "output_type": "execute_result"
    }
   ],
   "source": [
    "np.max(sRGB)"
   ]
  },
  {
   "cell_type": "code",
   "execution_count": 18,
   "id": "0c6d3d9f",
   "metadata": {},
   "outputs": [
    {
     "data": {
      "text/plain": [
       "-3100.1004530237483"
      ]
     },
     "execution_count": 18,
     "metadata": {},
     "output_type": "execute_result"
    }
   ],
   "source": [
    "np.min(sRGB)"
   ]
  },
  {
   "cell_type": "code",
   "execution_count": 19,
   "id": "8df24acd",
   "metadata": {},
   "outputs": [
    {
     "data": {
      "text/plain": [
       "229.26505948775218"
      ]
     },
     "execution_count": 19,
     "metadata": {},
     "output_type": "execute_result"
    }
   ],
   "source": [
    "np.median(sRGB)"
   ]
  },
  {
   "cell_type": "code",
   "execution_count": 21,
   "id": "1ce543f6",
   "metadata": {},
   "outputs": [
    {
     "data": {
      "text/plain": [
       "365.427807914632"
      ]
     },
     "execution_count": 21,
     "metadata": {},
     "output_type": "execute_result"
    }
   ],
   "source": [
    "np.median(abs(sRGB))"
   ]
  },
  {
   "cell_type": "code",
   "execution_count": null,
   "id": "98065c64",
   "metadata": {},
   "outputs": [],
   "source": []
  }
 ],
 "metadata": {
  "kernelspec": {
   "display_name": "Python 3 (ipykernel)",
   "language": "python",
   "name": "python3"
  },
  "language_info": {
   "codemirror_mode": {
    "name": "ipython",
    "version": 3
   },
   "file_extension": ".py",
   "mimetype": "text/x-python",
   "name": "python",
   "nbconvert_exporter": "python",
   "pygments_lexer": "ipython3",
   "version": "3.9.2"
  }
 },
 "nbformat": 4,
 "nbformat_minor": 5
}
