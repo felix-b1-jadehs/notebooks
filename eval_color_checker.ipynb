{
 "cells": [
  {
   "cell_type": "code",
   "execution_count": 1,
   "id": "77f2173a",
   "metadata": {},
   "outputs": [],
   "source": [
    "%matplotlib inline\n",
    "import matplotlib as mlp\n",
    "mlp.rcParams['figure.figsize'] = 10, 15\n",
    "import matplotlib.pyplot as plt\n",
    "import rawpy\n",
    "import numpy as np"
   ]
  },
  {
   "cell_type": "code",
   "execution_count": 2,
   "id": "be53e7c9",
   "metadata": {},
   "outputs": [],
   "source": [
    "#load with no input in postprocess\n",
    "raw = rawpy.imread(\"./hq_cam_color_checker_new.dng\")"
   ]
  },
  {
   "cell_type": "code",
   "execution_count": 3,
   "id": "2b853450",
   "metadata": {},
   "outputs": [],
   "source": [
    "array_color = raw.postprocess()"
   ]
  },
  {
   "cell_type": "code",
   "execution_count": 8,
   "id": "e1b1e79f",
   "metadata": {},
   "outputs": [],
   "source": [
    "array = raw.postprocess(output_color=rawpy.ColorSpace.raw, gamma=(1,1),\n",
    "                        user_wb=[1.0,1.0,1.0,1.0], no_auto_bright=True)\n",
    "\n",
    "array_crop = array[2300:2800, 2050:2550] # grey field #D4\n",
    "# field 4 last line [y1:y2,x1:x2] 500x500\n",
    "r_mean = np.mean(array_crop[:,:,0])\n",
    "g_mean = np.mean(array_crop[:,:,1])\n",
    "b_mean = np.mean(array_crop[:,:,2])\n",
    "base_wb = [g_mean/r_mean, 1.0, g_mean/b_mean, 1.0]\n",
    "\n",
    "array_corr = raw.postprocess(user_wb=base_wb)"
   ]
  },
  {
   "cell_type": "code",
   "execution_count": null,
   "id": "ac79fa93",
   "metadata": {},
   "outputs": [],
   "source": []
  },
  {
   "cell_type": "code",
   "execution_count": 4,
   "id": "dd446684",
   "metadata": {},
   "outputs": [],
   "source": [
    "import os\n",
    "import csv\n",
    "\n",
    "def write_data(data, path):\n",
    "    '''this function takes a bunch of data as a list-object\n",
    "    and writes those to a csv file'''\n",
    "    file = \"dng_cc_color_rgb_dist.csv\"\n",
    "    file = os.path.join(path, file)\n",
    "    with open(file, 'a+', newline='') as new_row:\n",
    "        csv_writer = csv.writer(new_row)\n",
    "        csv_writer.writerow(data)\n"
   ]
  },
  {
   "cell_type": "code",
   "execution_count": 5,
   "id": "672459ee",
   "metadata": {},
   "outputs": [],
   "source": [
    "# A1 - F4\n",
    "dict_cc_colors = {\"A1\":[115,82,68],\n",
    "                \"A2\":[214,126,44],\n",
    "                \"A3\":[56,61,150],\n",
    "                \"A4\":[243,243,242],\n",
    "                \"B1\":[194,150,130],\n",
    "                \"B2\":[80,91,166],\n",
    "                \"B3\":[70,148,73],\n",
    "                \"B4\":[200,200,200],\n",
    "                \"C1\":[98,122,157],\n",
    "                \"C2\":[193,90,99],\n",
    "                \"C3\":[175,54,60],\n",
    "                \"C4\":[160,160,160],\n",
    "                \"D1\":[87,108,67],\n",
    "                \"D2\":[94,60,108],\n",
    "                \"D3\":[231,199,31],\n",
    "                \"D4\":[122,122,121],\n",
    "                \"E1\":[133,128,177],\n",
    "                \"E2\":[157,188,64],\n",
    "                \"E3\":[187,86,149],\n",
    "                \"E4\":[85,85,85],\n",
    "                \"F1\":[103,189,170],\n",
    "                \"F2\":[224,126,44],\n",
    "                \"F3\":[8,133,161],\n",
    "                \"F4\":[52,52,52]\n",
    "                }\n",
    "\n",
    "\n",
    "array_cc_colors = [[\"A1\", \"B1\", \"C1\", \"D1\", \"E1\", \"F1\"],\n",
    "                    [\"A2\", \"B2\", \"C2\", \"D2\", \"E2\", \"F2\"],\n",
    "                    [\"A3\", \"B3\", \"C3\", \"D3\", \"E3\", \"F3\"],\n",
    "                    [\"A4\", \"B4\", \"C4\", \"D4\", \"E4\", \"F4\"]]\n",
    "\n",
    "\n",
    "\n",
    "# A1 - F4\n",
    "dict_cc_field = {\"A1\":[250,750, 50,550],\n",
    "                \"A2\":[950,1450, 50,550],\n",
    "                \"A3\":[1600,2100, 50,550],\n",
    "                \"A4\":[2300,2800, 50,550],\n",
    "                \"B1\":[250,750, 750,1250],\n",
    "                \"B2\":[950,1450, 750,1250],\n",
    "                \"B3\":[1600,2100, 750,1250],\n",
    "                \"B4\":[2300,2800, 750,1250],\n",
    "                \"C1\":[250,750, 1400,1900],\n",
    "                \"C2\":[950,1450, 1400,1900],\n",
    "                \"C3\":[1600,2100, 1400,1900],\n",
    "                \"C4\":[2300,2800, 1400,1900],\n",
    "                \"D1\":[250,750, 2050,2550],\n",
    "                \"D2\":[950,1450, 2050,2550],\n",
    "                \"D3\":[1600,2100, 2050,2550],\n",
    "                \"D4\":[2300,2800, 2050,2550],\n",
    "                \"E1\":[250,750, 2750,3250],\n",
    "                \"E2\":[950,1450, 2750,3250],\n",
    "                \"E3\":[1600,2100, 2750,3250],\n",
    "                \"E4\":[2300,2800, 2750,3250],\n",
    "                \"F1\":[250,750, 3450,3950],\n",
    "                \"F2\":[950,1450, 3450,3950],\n",
    "                \"F3\":[1600,2100, 3450,3950],\n",
    "                \"F4\":[2300,2800, 3450,3950]\n",
    "                }"
   ]
  },
  {
   "cell_type": "code",
   "execution_count": 9,
   "id": "b8cdccad",
   "metadata": {},
   "outputs": [],
   "source": [
    "# loop for colors in color checker\n",
    "\n",
    "postprocess_info = [\"corrected\"]\n",
    "\n",
    "for y in range(4):\n",
    "    for x in range(6):\n",
    "        # links nach rechts, oben nach unten\n",
    "        # crop erst x anpassen, dann y\n",
    "        y1 = int(dict_cc_field[array_cc_colors[y][x]][0])\n",
    "        y2 = int(dict_cc_field[array_cc_colors[y][x]][1])\n",
    "        x1 = int(dict_cc_field[array_cc_colors[y][x]][2])\n",
    "        x2 = int(dict_cc_field[array_cc_colors[y][x]][3])\n",
    "\n",
    "        array_crop = array_corr[y1:y2,x1:x2]\n",
    "        # calculate mean values for the cropped field\n",
    "        r_mean = np.mean(array_crop[:,:,0])\n",
    "        g_mean = np.mean(array_crop[:,:,1])\n",
    "        b_mean = np.mean(array_crop[:,:,2])\n",
    "\n",
    "        r_dist = dict_cc_colors[array_cc_colors[y][x]][0] - r_mean\n",
    "        g_dist = dict_cc_colors[array_cc_colors[y][x]][1] - g_mean \n",
    "        b_dist = dict_cc_colors[array_cc_colors[y][x]][2] - b_mean\n",
    "        \n",
    "        distance = np.sqrt(r_dist**2+g_dist**2+b_dist**2)\n",
    "\n",
    "        data = [dict_cc_colors[array_cc_colors[y][x]], r_dist, g_dist, b_dist, distance, postprocess_info]\n",
    "        write_data(data, \"./\")\n"
   ]
  },
  {
   "cell_type": "code",
   "execution_count": null,
   "id": "2e567913",
   "metadata": {},
   "outputs": [],
   "source": []
  }
 ],
 "metadata": {
  "kernelspec": {
   "display_name": "Python 3 (ipykernel)",
   "language": "python",
   "name": "python3"
  },
  "language_info": {
   "codemirror_mode": {
    "name": "ipython",
    "version": 3
   },
   "file_extension": ".py",
   "mimetype": "text/x-python",
   "name": "python",
   "nbconvert_exporter": "python",
   "pygments_lexer": "ipython3",
   "version": "3.9.2"
  }
 },
 "nbformat": 4,
 "nbformat_minor": 5
}
