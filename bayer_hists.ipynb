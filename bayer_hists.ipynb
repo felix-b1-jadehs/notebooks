{
 "cells": [
  {
   "cell_type": "code",
   "execution_count": 1,
   "id": "78f7e7ab",
   "metadata": {},
   "outputs": [],
   "source": [
    "%matplotlib inline\n",
    "import matplotlib as mlp\n",
    "mlp.rcParams['figure.figsize'] = 10, 15\n",
    "import matplotlib.pyplot as plt\n",
    "import rawpy\n",
    "import numpy as np"
   ]
  },
  {
   "cell_type": "code",
   "execution_count": 2,
   "id": "3840648f",
   "metadata": {},
   "outputs": [],
   "source": [
    "raw = rawpy.imread(\"./hq_cam_color_checker_new.dng\")\n",
    "# raw image displayed with no margin\n",
    "bayer = raw.raw_image_visible.copy()\n",
    "raw.close()"
   ]
  },
  {
   "cell_type": "code",
   "execution_count": 3,
   "id": "e74770f7",
   "metadata": {},
   "outputs": [],
   "source": [
    " def get_bayer_color(bayer, y1, y2, x1, x2):\n",
    "    red = []\n",
    "    green = []\n",
    "    blue = []\n",
    "    black_level = 256\n",
    "    for y in range(y1, y2):\n",
    "        for x in range(x1, x2):\n",
    "            if y%2==0:\n",
    "                if x%2==0:\n",
    "                    blue.append(bayer[y][x]-black_level)\n",
    "                else:\n",
    "                    green.append(bayer[y][x]-black_level)\n",
    "            else:\n",
    "                if x%2==0:\n",
    "                    green.append(bayer[y][x]-black_level)\n",
    "                else:\n",
    "                    red.append(bayer[y][x]-black_level)\n",
    "    \n",
    "    return red, green, blue"
   ]
  },
  {
   "cell_type": "code",
   "execution_count": 4,
   "id": "43fa5a26",
   "metadata": {},
   "outputs": [],
   "source": [
    "#plt.hist(np.log10(red) ,alpha=0.5, label='R', color='r')\n",
    "#plt.hist(np.log10(green) ,alpha=0.5, label='G', color='g')\n",
    "#plt.hist(np.log10(blue) ,alpha=0.5, label='B', color='b')\n",
    "#plt.legend(loc='upper left')\n",
    "#plt.show()"
   ]
  },
  {
   "cell_type": "code",
   "execution_count": 5,
   "id": "9b231508",
   "metadata": {},
   "outputs": [],
   "source": [
    "# A1 - F4\n",
    "dict_cc_field = {\"A1\":[250,750, 50,550],\n",
    "                \"A2\":[950,1450, 50,550],\n",
    "                \"A3\":[1600,2100, 50,550],\n",
    "                \"A4\":[2300,2800, 50,550],\n",
    "                \"B1\":[250,750, 750,1250],\n",
    "                \"B2\":[950,1450, 750,1250],\n",
    "                \"B3\":[1600,2100, 750,1250],\n",
    "                \"B4\":[2300,2800, 750,1250],\n",
    "                \"C1\":[250,750, 1400,1900],\n",
    "                \"C2\":[950,1450, 1400,1900],\n",
    "                \"C3\":[1600,2100, 1400,1900],\n",
    "                \"C4\":[2300,2800, 1400,1900],\n",
    "                \"D1\":[250,750, 2050,2550],\n",
    "                \"D2\":[950,1450, 2050,2550],\n",
    "                \"D3\":[1600,2100, 2050,2550],\n",
    "                \"D4\":[2300,2800, 2050,2550],\n",
    "                \"E1\":[250,750, 2750,3250],\n",
    "                \"E2\":[950,1450, 2750,3250],\n",
    "                \"E3\":[1600,2100, 2750,3250],\n",
    "                \"E4\":[2300,2800, 2750,3250],\n",
    "                \"F1\":[250,750, 3450,3950],\n",
    "                \"F2\":[950,1450, 3450,3950],\n",
    "                \"F3\":[1600,2100, 3450,3950],\n",
    "                \"F4\":[2300,2800, 3450,3950]\n",
    "                }"
   ]
  },
  {
   "cell_type": "code",
   "execution_count": 6,
   "id": "5b2a2d93",
   "metadata": {},
   "outputs": [],
   "source": [
    "# blue green red gray_card\n",
    "#tiles = [\"A3\", \"B3\", \"C3\", \"D4\"]\n",
    "\n",
    "#for i, tile in enumerate(tiles):\n",
    "#        y1 = int(dict_cc_field[tile][0])\n",
    "#        y2 = int(dict_cc_field[tile][1])\n",
    "#        x1 = int(dict_cc_field[tile][2])\n",
    "#        x2 = int(dict_cc_field[tile][3])\n",
    "#        red, green, blue = get_bayer_color(bayer, y1, y2, x1, x2)\n",
    "#        plt.hist(np.log10(red) ,alpha=0.5, label='R', color='r')\n",
    "#        plt.hist(np.log10(green) ,alpha=0.5, label='G', color='g')\n",
    "#        plt.hist(np.log10(blue) ,alpha=0.5, label='B', color='b')\n",
    "#        plt.legend(loc='upper left')\n",
    "#        plt.savefig(f'./Documents/{tile}.png')\n",
    "#        plt.show()\n"
   ]
  },
  {
   "cell_type": "code",
   "execution_count": 7,
   "id": "aed1da78",
   "metadata": {},
   "outputs": [
    {
     "data": {
      "image/png": "[encoded data removed]",
      "text/plain": [
       "<Figure size 720x1080 with 4 Axes>"
      ]
     },
     "metadata": {
      "needs_background": "light"
     },
     "output_type": "display_data"
    }
   ],
   "source": [
    "# blue green red gray_card\n",
    "tiles = [\"A3\", \"B3\", \"C3\", \"D4\"]\n",
    "\n",
    "# plot data with subplots\n",
    "fig = plt.figure()\n",
    "gs = fig.add_gridspec(2,2)\n",
    "(ax1, ax2),(ax3, ax4) = gs.subplots()\n",
    "\n",
    "for i, tile in enumerate(tiles):\n",
    "        y1 = int(dict_cc_field[tile][0])\n",
    "        y2 = int(dict_cc_field[tile][1])\n",
    "        x1 = int(dict_cc_field[tile][2])\n",
    "        x2 = int(dict_cc_field[tile][3])\n",
    "        red, green, blue = get_bayer_color(bayer, y1, y2, x1, x2)\n",
    "        if i==0:\n",
    "            ax1.hist(np.log10(red) ,alpha=0.5, label=f'R_{tile}', color='r')\n",
    "            ax1.hist(np.log10(green) ,alpha=0.5, label=f'G_{tile}', color='g')\n",
    "            ax1.hist(np.log10(blue) ,alpha=0.5, label=f'B_{tile}', color='b')\n",
    "            ax1.set_title(f\"{tile}\")\n",
    "        elif i==1:\n",
    "            ax2.hist(np.log10(red) ,alpha=0.5, label=f'R_{tile}', color='r')\n",
    "            ax2.hist(np.log10(green) ,alpha=0.5, label=f'G_{tile}', color='g')\n",
    "            ax2.hist(np.log10(blue) ,alpha=0.5, label=f'B_{tile}', color='b')\n",
    "            ax2.set_title(f\"{tile}\")\n",
    "        elif i==2:\n",
    "            ax3.hist(np.log10(red) ,alpha=0.5, label=f'R_{tile}', color='r')\n",
    "            ax3.hist(np.log10(green) ,alpha=0.5, label=f'G_{tile}', color='g')\n",
    "            ax3.hist(np.log10(blue) ,alpha=0.5, label=f'B_{tile}', color='b')\n",
    "            ax3.set_title(f\"{tile}\")\n",
    "        elif i==3:\n",
    "            ax4.hist(np.log10(red) ,alpha=0.5, label=f'R_{tile}', color='r')\n",
    "            ax4.hist(np.log10(green) ,alpha=0.5, label=f'G_{tile}', color='g')\n",
    "            ax4.hist(np.log10(blue) ,alpha=0.5, label=f'B_{tile}', color='b')\n",
    "            ax4.set_title(f\"{tile}\")\n",
    "\n",
    "\n",
    "plt.savefig(f'./Documents/subplots_4_title.png')\n",
    "plt.show()"
   ]
  },
  {
   "cell_type": "code",
   "execution_count": null,
   "id": "4394bc53",
   "metadata": {},
   "outputs": [],
   "source": []
  },
  {
   "cell_type": "code",
   "execution_count": 8,
   "id": "8d346746",
   "metadata": {},
   "outputs": [],
   "source": [
    "# white balanced bayer data"
   ]
  },
  {
   "cell_type": "code",
   "execution_count": 9,
   "id": "1d6690bb",
   "metadata": {},
   "outputs": [],
   "source": [
    "# for white balancing of bayer data \n",
    "def correct_bayer_wb(bayer, wb):\n",
    "    # wb: [red, green, blue, green]\n",
    "    for y in range(bayer.shape[0]):\n",
    "        for x in range(bayer.shape[1]):\n",
    "            if y%2==0:\n",
    "                if x%2==0:\n",
    "                    # blue\n",
    "                    bayer[y][x] = bayer[y][x]*wb[2]\n",
    "                else:\n",
    "                    # green\n",
    "                    bayer[y][x] = bayer[y][x]*wb[1]\n",
    "            else:\n",
    "                if x%2==0:\n",
    "                    # green\n",
    "                    bayer[y][x] = bayer[y][x]*wb[1]\n",
    "                else:\n",
    "                    # red\n",
    "                    bayer[y][x] = bayer[y][x]*wb[0]\n",
    "    \n",
    "    return bayer"
   ]
  },
  {
   "cell_type": "code",
   "execution_count": 10,
   "id": "b5e2a41f",
   "metadata": {},
   "outputs": [
    {
     "name": "stdout",
     "output_type": "stream",
     "text": [
      "129.0 524.0 383.0\n",
      "[4.062015503875969, 1.0, 1.3681462140992167, 1.0]\n"
     ]
    }
   ],
   "source": [
    "# define position of gray card\n",
    "#[2300,2800, 2050,2550]\n",
    "y1 = 2300\n",
    "y2 = 2800\n",
    "x1 = 2050\n",
    "x2 = 2550\n",
    "\n",
    "red, green, blue = get_bayer_color(bayer, y1, y2, x1, x2)\n",
    "\n",
    "red_median = np.median(red)\n",
    "green_median = np.median(green)\n",
    "blue_median = np.median(blue)\n",
    "print(red_median, green_median, blue_median)\n",
    "\n",
    "# wb: [red, green, blue, green]\n",
    "base_wb = [green_median/red_median, 1.0, green_median/blue_median, 1.0]\n",
    "print(base_wb)\n",
    "\n",
    "# multiply every pixel with the corresponding base wb value\n",
    "bayer_corr = correct_bayer_wb(bayer, base_wb)"
   ]
  },
  {
   "cell_type": "code",
   "execution_count": 11,
   "id": "7dd41607",
   "metadata": {},
   "outputs": [
    {
     "data": {
      "image/png": "[encoded data removed]",
      "text/plain": [
       "<Figure size 720x1080 with 4 Axes>"
      ]
     },
     "metadata": {
      "needs_background": "light"
     },
     "output_type": "display_data"
    }
   ],
   "source": [
    "# blue green red gray_card\n",
    "tiles = [\"A3\", \"B3\", \"C3\", \"D4\"]\n",
    "\n",
    "# plot data with subplots\n",
    "fig = plt.figure()\n",
    "gs = fig.add_gridspec(2,2)\n",
    "(ax1, ax2),(ax3, ax4) = gs.subplots()\n",
    "\n",
    "for i, tile in enumerate(tiles):\n",
    "        y1 = int(dict_cc_field[tile][0])\n",
    "        y2 = int(dict_cc_field[tile][1])\n",
    "        x1 = int(dict_cc_field[tile][2])\n",
    "        x2 = int(dict_cc_field[tile][3])\n",
    "        red, green, blue = get_bayer_color(bayer_corr, y1, y2, x1, x2)\n",
    "        if i==0:\n",
    "            ax1.hist(np.log10(red) ,alpha=0.5, label=f'R_{tile}', color='r')\n",
    "            ax1.hist(np.log10(green) ,alpha=0.5, label=f'G_{tile}', color='g')\n",
    "            ax1.hist(np.log10(blue) ,alpha=0.5, label=f'B_{tile}', color='b')\n",
    "            ax1.set_title(f\"{tile}\")\n",
    "        elif i==1:\n",
    "            ax2.hist(np.log10(red) ,alpha=0.5, label=f'R_{tile}', color='r')\n",
    "            ax2.hist(np.log10(green) ,alpha=0.5, label=f'G_{tile}', color='g')\n",
    "            ax2.hist(np.log10(blue) ,alpha=0.5, label=f'B_{tile}', color='b')\n",
    "            ax2.set_title(f\"{tile}\")\n",
    "        elif i==2:\n",
    "            ax3.hist(np.log10(red) ,alpha=0.5, label=f'R_{tile}', color='r')\n",
    "            ax3.hist(np.log10(green) ,alpha=0.5, label=f'G_{tile}', color='g')\n",
    "            ax3.hist(np.log10(blue) ,alpha=0.5, label=f'B_{tile}', color='b')\n",
    "            ax3.set_title(f\"{tile}\")\n",
    "        elif i==3:\n",
    "            ax4.hist(np.log10(red) ,alpha=0.5, label=f'R_{tile}', color='r')\n",
    "            ax4.hist(np.log10(green) ,alpha=0.5, label=f'G_{tile}', color='g')\n",
    "            ax4.hist(np.log10(blue) ,alpha=0.5, label=f'B_{tile}', color='b')\n",
    "            ax4.set_title(f\"{tile}\")\n",
    "\n",
    "\n",
    "plt.savefig(f'./Documents/subplots_4_bayer_wb_corrected.png')\n",
    "plt.show()"
   ]
  },
  {
   "cell_type": "code",
   "execution_count": 12,
   "id": "724948c2",
   "metadata": {},
   "outputs": [
    {
     "name": "stdout",
     "output_type": "stream",
     "text": [
      "1307.0 524.0 618.0\n"
     ]
    }
   ],
   "source": [
    "# color check after white balance\n",
    "y1 = 2300\n",
    "y2 = 2800\n",
    "x1 = 2050\n",
    "x2 = 2550\n",
    "\n",
    "red, green, blue = get_bayer_color(bayer_corr, y1, y2, x1, x2)\n",
    "\n",
    "red_median = np.median(red)\n",
    "green_median = np.median(green)\n",
    "blue_median = np.median(blue)\n",
    "print(red_median, green_median, blue_median)\n",
    "\n",
    "# before: 129.0 524.0 383.0\n",
    "# now: 1307.0 524.0 618.0"
   ]
  },
  {
   "cell_type": "code",
   "execution_count": null,
   "id": "3572e06d",
   "metadata": {},
   "outputs": [],
   "source": []
  },
  {
   "cell_type": "code",
   "execution_count": 13,
   "id": "7dd47b1b",
   "metadata": {},
   "outputs": [],
   "source": [
    "# plot demosaic values"
   ]
  },
  {
   "cell_type": "code",
   "execution_count": 14,
   "id": "9617486f",
   "metadata": {},
   "outputs": [],
   "source": [
    "# for demosaic\n",
    "def demosaic_raw_rgb(bayer):\n",
    "    rgb = np.zeros([bayer.shape[0],bayer.shape[1],3]) \n",
    "    for y in range(bayer.shape[0]):\n",
    "        for x in range(bayer.shape[1]):\n",
    "            # marginal condition\n",
    "            if y==3039 or x==4055:\n",
    "                if y%2==0:\n",
    "                    if x%2==0:\n",
    "                        # blue\n",
    "                        g = bayer[y-1][x]+bayer[y][x-1]\n",
    "                        rgb[y][x] = [bayer[y-1][x-1],g/2,bayer[y][x]]                  \n",
    "                    else:\n",
    "                        # green\n",
    "                        g = bayer[y][x]+bayer[y-1][x-1]\n",
    "                        rgb[y][x] = [bayer[y-1][x],g/2,bayer[y][x-1]]                    \n",
    "                else:\n",
    "                    if x%2==0:\n",
    "                        # green\n",
    "                        g = bayer[y][x]+bayer[y-1][x-1]\n",
    "                        rgb[y][x] = [bayer[y][x-1],g/2,bayer[y-1][x]] \n",
    "                    else:\n",
    "                        g = bayer[y-1][x]+bayer[y][x-1]\n",
    "                        rgb[y][x] = [bayer[y][x],g/2,bayer[y-1][x-1]]  \n",
    "                        # red\n",
    "            else:\n",
    "                if y%2==0:\n",
    "                    if x%2==0:\n",
    "                        # blue\n",
    "                        g = bayer[y+1][x]+bayer[y][x+1]\n",
    "                        rgb[y][x] = [bayer[y+1][x+1],g/2,bayer[y][x]]                  \n",
    "                    else:\n",
    "                        # green\n",
    "                        g = bayer[y][x]+bayer[y+1][x+1]\n",
    "                        rgb[y][x] = [bayer[y+1][x],g/2,bayer[y][x+1]]                    \n",
    "                else:\n",
    "                    if x%2==0:\n",
    "                        # green\n",
    "                        g = bayer[y][x]+bayer[y+1][x+1]\n",
    "                        rgb[y][x] = [bayer[y][x+1],g/2,bayer[y+1][x]] \n",
    "                    else:\n",
    "                        g = bayer[y+1][x]+bayer[y][x+1]\n",
    "                        rgb[y][x] = [bayer[y][x],g/2,bayer[y+1][x+1]]  \n",
    "                        # red\n",
    "                    \n",
    "    return rgb"
   ]
  },
  {
   "cell_type": "code",
   "execution_count": 15,
   "id": "a2bbfbb3",
   "metadata": {},
   "outputs": [],
   "source": [
    "# 3 dimension split\n",
    "def get_3_dimension_split(array, y1, y2, x1, x2):\n",
    "    d1 = []\n",
    "    d2 = []\n",
    "    d3 = []\n",
    "    for y in range(y1,y2):\n",
    "        for x in range(x1,x2):\n",
    "            d1.append(array[y][x][0])\n",
    "            d2.append(array[y][x][1])\n",
    "            d3.append(array[y][x][2])\n",
    "            \n",
    "    return d1, d2, d3"
   ]
  },
  {
   "cell_type": "code",
   "execution_count": 16,
   "id": "2814f887",
   "metadata": {},
   "outputs": [
    {
     "data": {
      "image/png": "[encoded data removed]",
      "text/plain": [
       "<Figure size 720x1080 with 4 Axes>"
      ]
     },
     "metadata": {
      "needs_background": "light"
     },
     "output_type": "display_data"
    }
   ],
   "source": [
    "rgb_array = demosaic_raw_rgb(bayer)\n",
    "\n",
    "# blue green red gray_card\n",
    "tiles = [\"A3\", \"B3\", \"C3\", \"D4\"]\n",
    "\n",
    "# plot data with subplots\n",
    "fig = plt.figure()\n",
    "gs = fig.add_gridspec(2,2)\n",
    "(ax1, ax2),(ax3, ax4) = gs.subplots()\n",
    "\n",
    "for i, tile in enumerate(tiles):\n",
    "        y1 = int(dict_cc_field[tile][0])\n",
    "        y2 = int(dict_cc_field[tile][1])\n",
    "        x1 = int(dict_cc_field[tile][2])\n",
    "        x2 = int(dict_cc_field[tile][3])\n",
    "        red, green, blue = get_3_dimension_split(rgb_array, y1, y2, x1, x2)\n",
    "        if i==0:\n",
    "            ax1.hist(np.log10(red) ,alpha=0.5, label=f'R_{tile}', color='r')\n",
    "            ax1.hist(np.log10(green) ,alpha=0.5, label=f'G_{tile}', color='g')\n",
    "            ax1.hist(np.log10(blue) ,alpha=0.5, label=f'B_{tile}', color='b')\n",
    "            ax1.set_title(f\"{tile}\")\n",
    "        elif i==1:\n",
    "            ax2.hist(np.log10(red) ,alpha=0.5, label=f'R_{tile}', color='r')\n",
    "            ax2.hist(np.log10(green) ,alpha=0.5, label=f'G_{tile}', color='g')\n",
    "            ax2.hist(np.log10(blue) ,alpha=0.5, label=f'B_{tile}', color='b')\n",
    "            ax2.set_title(f\"{tile}\")\n",
    "        elif i==2:\n",
    "            ax3.hist(np.log10(red) ,alpha=0.5, label=f'R_{tile}', color='r')\n",
    "            ax3.hist(np.log10(green) ,alpha=0.5, label=f'G_{tile}', color='g')\n",
    "            ax3.hist(np.log10(blue) ,alpha=0.5, label=f'B_{tile}', color='b')\n",
    "            ax3.set_title(f\"{tile}\")\n",
    "        elif i==3:\n",
    "            ax4.hist(np.log10(red) ,alpha=0.5, label=f'R_{tile}', color='r')\n",
    "            ax4.hist(np.log10(green) ,alpha=0.5, label=f'G_{tile}', color='g')\n",
    "            ax4.hist(np.log10(blue) ,alpha=0.5, label=f'B_{tile}', color='b')\n",
    "            ax4.set_title(f\"{tile}\")\n",
    "\n",
    "\n",
    "plt.savefig(f'./Documents/subplots_4_demosaic.png')\n",
    "plt.show()"
   ]
  },
  {
   "cell_type": "code",
   "execution_count": null,
   "id": "5b9da6ee",
   "metadata": {},
   "outputs": [],
   "source": []
  },
  {
   "cell_type": "code",
   "execution_count": 17,
   "id": "0c399a48",
   "metadata": {},
   "outputs": [],
   "source": [
    "# plot XYZ values\n"
   ]
  },
  {
   "cell_type": "code",
   "execution_count": 18,
   "id": "83d09dd1",
   "metadata": {},
   "outputs": [],
   "source": [
    "# forward matrix\n",
    "# raw white-balanced demosaiced data: rgb to XYZ\n",
    "# table from dng meta data\n",
    "CM = np.array([[0.3806826174, -0.09813511372, -0.008731900714 ],\n",
    "                [-0.220981434, 0.888884902, 0.294952035 ],\n",
    "                [0.06568053365, 0.1024207622, 0.5077140927]])\n",
    "\n",
    "XYZ = np.zeros(rgb_array.shape)\n",
    "for y in range(rgb_array.shape[0]):\n",
    "    for x in range(rgb_array.shape[1]):\n",
    "        pix = rgb_array[y,x,:]\n",
    "        XYZ_pix = CM.dot(pix)\n",
    "        XYZ[y,x,:] = XYZ_pix"
   ]
  },
  {
   "cell_type": "code",
   "execution_count": null,
   "id": "c7acfd8d",
   "metadata": {},
   "outputs": [],
   "source": []
  },
  {
   "cell_type": "code",
   "execution_count": 19,
   "id": "d579e298",
   "metadata": {},
   "outputs": [],
   "source": [
    "# plot sRGB values"
   ]
  },
  {
   "cell_type": "code",
   "execution_count": 20,
   "id": "8116f7bd",
   "metadata": {},
   "outputs": [],
   "source": [
    "# convert XYZ to sRGB\n",
    "TM = np.array([[3.2406, -1.5372, -0.4986],\n",
    "                [-0.9689, 1.8758, 0.0415],\n",
    "                [0.0557, -0.2040, 1.0570]])\n",
    "\n",
    "sRGB = np.zeros(XYZ.shape)\n",
    "for y in range(XYZ.shape[0]):\n",
    "    for x in range(XYZ.shape[1]):\n",
    "        pix = XYZ[y,x,:]\n",
    "        sRGB_pix = TM.dot(pix)\n",
    "        sRGB[y,x,:] = sRGB_pix\n",
    "        \n",
    "sRGB = abs(sRGB)"
   ]
  },
  {
   "cell_type": "code",
   "execution_count": 21,
   "id": "01d26742",
   "metadata": {},
   "outputs": [
    {
     "data": {
      "image/png": "[encoded data removed]",
      "text/plain": [
       "<Figure size 720x1080 with 4 Axes>"
      ]
     },
     "metadata": {
      "needs_background": "light"
     },
     "output_type": "display_data"
    }
   ],
   "source": [
    "# blue green red gray_card\n",
    "tiles = [\"A3\", \"B3\", \"C3\", \"D4\"]\n",
    "\n",
    "# plot data with subplots\n",
    "fig = plt.figure()\n",
    "gs = fig.add_gridspec(2,2)\n",
    "(ax1, ax2),(ax3, ax4) = gs.subplots()\n",
    "\n",
    "for i, tile in enumerate(tiles):\n",
    "        y1 = int(dict_cc_field[tile][0])\n",
    "        y2 = int(dict_cc_field[tile][1])\n",
    "        x1 = int(dict_cc_field[tile][2])\n",
    "        x2 = int(dict_cc_field[tile][3])\n",
    "        red, green, blue = get_3_dimension_split(sRGB, y1, y2, x1, x2)\n",
    "        if i==0:\n",
    "            ax1.hist(np.log10(red) ,alpha=0.5, label=f'R_{tile}', color='r')\n",
    "            ax1.hist(np.log10(green) ,alpha=0.5, label=f'G_{tile}', color='g')\n",
    "            ax1.hist(np.log10(blue) ,alpha=0.5, label=f'B_{tile}', color='b')\n",
    "            ax1.set_title(f\"{tile}\")\n",
    "        elif i==1:\n",
    "            ax2.hist(np.log10(red) ,alpha=0.5, label=f'R_{tile}', color='r')\n",
    "            ax2.hist(np.log10(green) ,alpha=0.5, label=f'G_{tile}', color='g')\n",
    "            ax2.hist(np.log10(blue) ,alpha=0.5, label=f'B_{tile}', color='b')\n",
    "            ax2.set_title(f\"{tile}\")\n",
    "        elif i==2:\n",
    "            ax3.hist(np.log10(red) ,alpha=0.5, label=f'R_{tile}', color='r')\n",
    "            ax3.hist(np.log10(green) ,alpha=0.5, label=f'G_{tile}', color='g')\n",
    "            ax3.hist(np.log10(blue) ,alpha=0.5, label=f'B_{tile}', color='b')\n",
    "            ax3.set_title(f\"{tile}\")\n",
    "        elif i==3:\n",
    "            ax4.hist(np.log10(red) ,alpha=0.5, label=f'R_{tile}', color='r')\n",
    "            ax4.hist(np.log10(green) ,alpha=0.5, label=f'G_{tile}', color='g')\n",
    "            ax4.hist(np.log10(blue) ,alpha=0.5, label=f'B_{tile}', color='b')\n",
    "            ax4.set_title(f\"{tile}\")\n",
    "\n",
    "\n",
    "plt.savefig(f'./Documents/subplots_4_sRGB.png')\n",
    "plt.show()"
   ]
  },
  {
   "cell_type": "code",
   "execution_count": null,
   "id": "f692c33f",
   "metadata": {},
   "outputs": [],
   "source": []
  },
  {
   "cell_type": "code",
   "execution_count": null,
   "id": "6648ac93",
   "metadata": {},
   "outputs": [],
   "source": [
    "# sRGB statistics"
   ]
  },
  {
   "cell_type": "code",
   "execution_count": 22,
   "id": "28884677",
   "metadata": {},
   "outputs": [
    {
     "data": {
      "text/plain": [
       "1.4624014371023009e-05"
      ]
     },
     "execution_count": 22,
     "metadata": {},
     "output_type": "execute_result"
    }
   ],
   "source": [
    "np.min(sRGB)"
   ]
  },
  {
   "cell_type": "code",
   "execution_count": 23,
   "id": "ae0676a6",
   "metadata": {},
   "outputs": [
    {
     "data": {
      "text/plain": [
       "4090.588411871296"
      ]
     },
     "execution_count": 23,
     "metadata": {},
     "output_type": "execute_result"
    }
   ],
   "source": [
    "np.max(sRGB)"
   ]
  },
  {
   "cell_type": "code",
   "execution_count": 24,
   "id": "08b80059",
   "metadata": {},
   "outputs": [
    {
     "data": {
      "text/plain": [
       "664.2689229477756"
      ]
     },
     "execution_count": 24,
     "metadata": {},
     "output_type": "execute_result"
    }
   ],
   "source": [
    "np.mean(sRGB)"
   ]
  },
  {
   "cell_type": "code",
   "execution_count": 27,
   "id": "920a56c1",
   "metadata": {},
   "outputs": [
    {
     "data": {
      "text/plain": [
       "574.0902870157032"
      ]
     },
     "execution_count": 27,
     "metadata": {},
     "output_type": "execute_result"
    }
   ],
   "source": [
    "np.median(sRGB)"
   ]
  },
  {
   "cell_type": "code",
   "execution_count": null,
   "id": "c511ec89",
   "metadata": {},
   "outputs": [],
   "source": []
  },
  {
   "cell_type": "code",
   "execution_count": 35,
   "id": "1a524dfa",
   "metadata": {},
   "outputs": [
    {
     "name": "stdout",
     "output_type": "stream",
     "text": [
      "RGB-Median for A3, R:124.85128873384221, G:701.4316486120301, B:644.1855204021127\n",
      "\n",
      "\n",
      "RGB-Median for A3, R:7.772724274201602, G:43.668230077164964, B:40.10432316956512\n",
      "\n",
      "\n",
      "\n",
      "RGB-Median for B3, R:78.23388821428222, G:994.1361197153624, B:487.6655336530562\n",
      "\n",
      "\n",
      "RGB-Median for B3, R:4.870517943027823, G:61.89079846860776, B:30.360036885138996\n",
      "\n",
      "\n",
      "\n",
      "RGB-Median for C3, R:1417.4065114045184, G:202.9286346753855, B:433.8271265240549\n",
      "\n",
      "\n",
      "RGB-Median for C3, R:88.24186045120904, G:12.633496543511548, B:27.008280581941893\n",
      "\n",
      "\n",
      "\n",
      "RGB-Median for D4, R:411.97123854780835, G:667.2540374068253, B:566.771815477326\n",
      "\n",
      "\n",
      "RGB-Median for D4, R:25.647623493576937, G:41.54047352020031, B:35.284866442069855\n",
      "\n",
      "\n",
      "\n"
     ]
    }
   ],
   "source": [
    "# blue green red gray_card\n",
    "tiles = [\"A3\", \"B3\", \"C3\", \"D4\"]\n",
    "\n",
    "for i, tile in enumerate(tiles):\n",
    "        y1 = int(dict_cc_field[tile][0])\n",
    "        y2 = int(dict_cc_field[tile][1])\n",
    "        x1 = int(dict_cc_field[tile][2])\n",
    "        x2 = int(dict_cc_field[tile][3])\n",
    "        red, green, blue = get_3_dimension_split(sRGB, y1, y2, x1, x2)\n",
    "        print(f\"RGB-Median for {tile}, R:{np.median(red)}, G:{np.median(green)}, B:{np.median(blue)}\")\n",
    "        print(\"\\n\")\n",
    "        print(f\"RGB-Median for {tile}, R:{np.median(red)/4096*255}, G:{np.median(green)/4096*255}, B:{np.median(blue)/4096*255}\")\n",
    "        print(\"\\n\\n\")"
   ]
  },
  {
   "cell_type": "code",
   "execution_count": 36,
   "id": "68f2827a",
   "metadata": {},
   "outputs": [
    {
     "name": "stdout",
     "output_type": "stream",
     "text": [
      "RGB-mean for A3, R:126.18442788802561, G:700.9117003762487, B:644.0548106903366\n",
      "\n",
      "\n",
      "RGB-mean for A3, R:7.85571999791175, G:43.635860252915876, B:40.09618572412984\n",
      "\n",
      "\n",
      "\n",
      "RGB-mean for B3, R:87.23092810251194, G:994.1730842639807, B:487.76528948309635\n",
      "\n",
      "\n",
      "RGB-mean for B3, R:5.430636393100719, G:61.89309972834841, B:30.366247270065813\n",
      "\n",
      "\n",
      "\n",
      "RGB-mean for C3, R:1418.115124733193, G:203.15185300353434, B:433.9141903125128\n",
      "\n",
      "\n",
      "RGB-mean for C3, R:88.28597578295025, G:12.647393192358706, B:27.013700812912784\n",
      "\n",
      "\n",
      "\n",
      "RGB-mean for D4, R:413.10221496097256, G:666.1346020208567, B:566.6405545256497\n",
      "\n",
      "\n",
      "RGB-mean for D4, R:25.718033402111327, G:41.47078210823205, B:35.276694678720865\n",
      "\n",
      "\n",
      "\n"
     ]
    }
   ],
   "source": [
    "# blue green red gray_card\n",
    "tiles = [\"A3\", \"B3\", \"C3\", \"D4\"]\n",
    "\n",
    "for i, tile in enumerate(tiles):\n",
    "        y1 = int(dict_cc_field[tile][0])\n",
    "        y2 = int(dict_cc_field[tile][1])\n",
    "        x1 = int(dict_cc_field[tile][2])\n",
    "        x2 = int(dict_cc_field[tile][3])\n",
    "        red, green, blue = get_3_dimension_split(sRGB, y1, y2, x1, x2)\n",
    "        print(f\"RGB-mean for {tile}, R:{np.mean(red)}, G:{np.mean(green)}, B:{np.mean(blue)}\")\n",
    "        print(\"\\n\")\n",
    "        print(f\"RGB-mean for {tile}, R:{np.mean(red)/4096*255}, G:{np.mean(green)/4096*255}, B:{np.mean(blue)/4096*255}\")\n",
    "        print(\"\\n\\n\")"
   ]
  },
  {
   "cell_type": "code",
   "execution_count": null,
   "id": "429f9f82",
   "metadata": {},
   "outputs": [],
   "source": []
  }
 ],
 "metadata": {
  "kernelspec": {
   "display_name": "Python 3 (ipykernel)",
   "language": "python",
   "name": "python3"
  },
  "language_info": {
   "codemirror_mode": {
    "name": "ipython",
    "version": 3
   },
   "file_extension": ".py",
   "mimetype": "text/x-python",
   "name": "python",
   "nbconvert_exporter": "python",
   "pygments_lexer": "ipython3",
   "version": "3.9.2"
  }
 },
 "nbformat": 4,
 "nbformat_minor": 5
}
