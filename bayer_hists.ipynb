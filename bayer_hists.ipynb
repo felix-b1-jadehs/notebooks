{
 "cells": [
  {
   "cell_type": "code",
   "execution_count": 1,
   "id": "78f7e7ab",
   "metadata": {},
   "outputs": [],
   "source": [
    "%matplotlib inline\n",
    "import matplotlib as mlp\n",
    "mlp.rcParams['figure.figsize'] = 10, 15\n",
    "import matplotlib.pyplot as plt\n",
    "import rawpy\n",
    "import numpy as np"
   ]
  },
  {
   "cell_type": "code",
   "execution_count": 2,
   "id": "3840648f",
   "metadata": {},
   "outputs": [],
   "source": [
    "raw = rawpy.imread(\"./hq_cam_color_checker_new.dng\")\n",
    "# raw image displayed with no margin\n",
    "bayer = raw.raw_image_visible.copy()\n",
    "raw.close()"
   ]
  },
  {
   "cell_type": "code",
   "execution_count": 3,
   "id": "e74770f7",
   "metadata": {},
   "outputs": [],
   "source": [
    " def get_bayer_color(bayer, y1, y2, x1, x2):\n",
    "    red = []\n",
    "    green = []\n",
    "    blue = []\n",
    "    black_level = 256\n",
    "    for y in range(y1, y2):\n",
    "        for x in range(x1, x2):\n",
    "            if y%2==0:\n",
    "                if x%2==0:\n",
    "                    blue.append(bayer[y][x]-black_level)\n",
    "                else:\n",
    "                    green.append(bayer[y][x]-black_level)\n",
    "            else:\n",
    "                if x%2==0:\n",
    "                    green.append(bayer[y][x]-black_level)\n",
    "                else:\n",
    "                    red.append(bayer[y][x]-black_level)\n",
    "    \n",
    "    return red, green, blue"
   ]
  },
  {
   "cell_type": "code",
   "execution_count": null,
   "id": "43fa5a26",
   "metadata": {},
   "outputs": [],
   "source": [
    "plt.hist(np.log10(red) ,alpha=0.5, label='R', color='r')\n",
    "plt.hist(np.log10(green) ,alpha=0.5, label='G', color='g')\n",
    "plt.hist(np.log10(blue) ,alpha=0.5, label='B', color='b')\n",
    "plt.legend(loc='upper left')\n",
    "plt.show()"
   ]
  },
  {
   "cell_type": "code",
   "execution_count": 4,
   "id": "9b231508",
   "metadata": {},
   "outputs": [],
   "source": [
    "# A1 - F4\n",
    "dict_cc_field = {\"A1\":[250,750, 50,550],\n",
    "                \"A2\":[950,1450, 50,550],\n",
    "                \"A3\":[1600,2100, 50,550],\n",
    "                \"A4\":[2300,2800, 50,550],\n",
    "                \"B1\":[250,750, 750,1250],\n",
    "                \"B2\":[950,1450, 750,1250],\n",
    "                \"B3\":[1600,2100, 750,1250],\n",
    "                \"B4\":[2300,2800, 750,1250],\n",
    "                \"C1\":[250,750, 1400,1900],\n",
    "                \"C2\":[950,1450, 1400,1900],\n",
    "                \"C3\":[1600,2100, 1400,1900],\n",
    "                \"C4\":[2300,2800, 1400,1900],\n",
    "                \"D1\":[250,750, 2050,2550],\n",
    "                \"D2\":[950,1450, 2050,2550],\n",
    "                \"D3\":[1600,2100, 2050,2550],\n",
    "                \"D4\":[2300,2800, 2050,2550],\n",
    "                \"E1\":[250,750, 2750,3250],\n",
    "                \"E2\":[950,1450, 2750,3250],\n",
    "                \"E3\":[1600,2100, 2750,3250],\n",
    "                \"E4\":[2300,2800, 2750,3250],\n",
    "                \"F1\":[250,750, 3450,3950],\n",
    "                \"F2\":[950,1450, 3450,3950],\n",
    "                \"F3\":[1600,2100, 3450,3950],\n",
    "                \"F4\":[2300,2800, 3450,3950]\n",
    "                }"
   ]
  },
  {
   "cell_type": "code",
   "execution_count": null,
   "id": "5b2a2d93",
   "metadata": {},
   "outputs": [],
   "source": [
    "# blue green red gray_card\n",
    "tiles = [\"A3\", \"B3\", \"C3\", \"D4\"]\n",
    "\n",
    "for i, tile in enumerate(tiles):\n",
    "        y1 = int(dict_cc_field[tile][0])\n",
    "        y2 = int(dict_cc_field[tile][1])\n",
    "        x1 = int(dict_cc_field[tile][2])\n",
    "        x2 = int(dict_cc_field[tile][3])\n",
    "        red, green, blue = get_bayer_color(bayer, y1, y2, x1, x2)\n",
    "        plt.hist(np.log10(red) ,alpha=0.5, label='R', color='r')\n",
    "        plt.hist(np.log10(green) ,alpha=0.5, label='G', color='g')\n",
    "        plt.hist(np.log10(blue) ,alpha=0.5, label='B', color='b')\n",
    "        plt.legend(loc='upper left')\n",
    "        plt.savefig(f'./Documents/{tile}.png')\n",
    "        plt.show()\n"
   ]
  },
  {
   "cell_type": "code",
   "execution_count": 10,
   "id": "aed1da78",
   "metadata": {},
   "outputs": [
    {
     "data": {
      "image/png": "[encoded data removed]",
      "text/plain": [
       "<Figure size 720x1080 with 4 Axes>"
      ]
     },
     "metadata": {
      "needs_background": "light"
     },
     "output_type": "display_data"
    }
   ],
   "source": [
    "# blue green red gray_card\n",
    "tiles = [\"A3\", \"B3\", \"C3\", \"D4\"]\n",
    "\n",
    "# plot data with subplots\n",
    "fig = plt.figure()\n",
    "gs = fig.add_gridspec(2,2)\n",
    "(ax1, ax2),(ax3, ax4) = gs.subplots()\n",
    "\n",
    "for i, tile in enumerate(tiles):\n",
    "        y1 = int(dict_cc_field[tile][0])\n",
    "        y2 = int(dict_cc_field[tile][1])\n",
    "        x1 = int(dict_cc_field[tile][2])\n",
    "        x2 = int(dict_cc_field[tile][3])\n",
    "        red, green, blue = get_bayer_color(bayer, y1, y2, x1, x2)\n",
    "        if i==0:\n",
    "            ax1.hist(np.log10(red) ,alpha=0.5, label=f'R_{tile}', color='r')\n",
    "            ax1.hist(np.log10(green) ,alpha=0.5, label=f'G_{tile}', color='g')\n",
    "            ax1.hist(np.log10(blue) ,alpha=0.5, label=f'B_{tile}', color='b')\n",
    "            ax1.set_title(f\"{tile}\")\n",
    "        elif i==1:\n",
    "            ax2.hist(np.log10(red) ,alpha=0.5, label=f'R_{tile}', color='r')\n",
    "            ax2.hist(np.log10(green) ,alpha=0.5, label=f'G_{tile}', color='g')\n",
    "            ax2.hist(np.log10(blue) ,alpha=0.5, label=f'B_{tile}', color='b')\n",
    "            ax2.set_title(f\"{tile}\")\n",
    "        elif i==2:\n",
    "            ax3.hist(np.log10(red) ,alpha=0.5, label=f'R_{tile}', color='r')\n",
    "            ax3.hist(np.log10(green) ,alpha=0.5, label=f'G_{tile}', color='g')\n",
    "            ax3.hist(np.log10(blue) ,alpha=0.5, label=f'B_{tile}', color='b')\n",
    "            ax3.set_title(f\"{tile}\")\n",
    "        elif i==3:\n",
    "            ax4.hist(np.log10(red) ,alpha=0.5, label=f'R_{tile}', color='r')\n",
    "            ax4.hist(np.log10(green) ,alpha=0.5, label=f'G_{tile}', color='g')\n",
    "            ax4.hist(np.log10(blue) ,alpha=0.5, label=f'B_{tile}', color='b')\n",
    "            ax4.set_title(f\"{tile}\")\n",
    "\n",
    "\n",
    "plt.savefig(f'./Documents/subplots_4_title.png')\n",
    "plt.show()"
   ]
  },
  {
   "cell_type": "code",
   "execution_count": null,
   "id": "4394bc53",
   "metadata": {},
   "outputs": [],
   "source": []
  }
 ],
 "metadata": {
  "kernelspec": {
   "display_name": "Python 3 (ipykernel)",
   "language": "python",
   "name": "python3"
  },
  "language_info": {
   "codemirror_mode": {
    "name": "ipython",
    "version": 3
   },
   "file_extension": ".py",
   "mimetype": "text/x-python",
   "name": "python",
   "nbconvert_exporter": "python",
   "pygments_lexer": "ipython3",
   "version": "3.9.2"
  }
 },
 "nbformat": 4,
 "nbformat_minor": 5
}
