{
 "cells": [
  {
   "cell_type": "code",
   "execution_count": 1,
   "id": "83a434a7",
   "metadata": {},
   "outputs": [],
   "source": [
    "%matplotlib inline\n",
    "import matplotlib as mlp\n",
    "mlp.rcParams['figure.figsize'] = 10, 15\n",
    "import matplotlib.pyplot as plt"
   ]
  },
  {
   "cell_type": "code",
   "execution_count": 2,
   "id": "bd810ae3",
   "metadata": {},
   "outputs": [],
   "source": [
    "import rawpy\n",
    "import numpy as np"
   ]
  },
  {
   "cell_type": "code",
   "execution_count": 3,
   "id": "eadb4af1",
   "metadata": {},
   "outputs": [
    {
     "data": {
      "text/plain": [
       "<RawType.Flat: 0>"
      ]
     },
     "execution_count": 3,
     "metadata": {},
     "output_type": "execute_result"
    }
   ],
   "source": [
    "raw = rawpy.imread(\"./hq_cam_color_checker_new.dng\")\n",
    "# raw image displayed with no margin\n",
    "raw.raw_type"
   ]
  },
  {
   "cell_type": "code",
   "execution_count": 4,
   "id": "436bdb57",
   "metadata": {},
   "outputs": [
    {
     "data": {
      "text/plain": [
       "array([[1472, 1944, 1472, ..., 1656, 1173, 1720],\n",
       "       [1898,  641, 1909, ...,  618, 1631,  594],\n",
       "       [1439, 1969, 1453, ..., 1650, 1268, 1630],\n",
       "       ...,\n",
       "       [1655,  590, 1603, ...,  537, 1354,  511],\n",
       "       [1225, 1698, 1195, ..., 1401, 1016, 1314],\n",
       "       [1642,  587, 1561, ...,  522, 1309,  508]], dtype=uint16)"
      ]
     },
     "execution_count": 4,
     "metadata": {},
     "output_type": "execute_result"
    }
   ],
   "source": [
    "raw.raw_image_visible"
   ]
  },
  {
   "cell_type": "code",
   "execution_count": 5,
   "id": "39e0ddba",
   "metadata": {},
   "outputs": [
    {
     "data": {
      "text/plain": [
       "'\\nblue green blue green\\ngreen red green red\\n'"
      ]
     },
     "execution_count": 5,
     "metadata": {},
     "output_type": "execute_result"
    }
   ],
   "source": [
    "raw.raw_pattern\n",
    "# 2 blue\n",
    "# 1, 3 green\n",
    "# 0 red\n",
    "\n"
   ]
  },
  {
   "cell_type": "code",
   "execution_count": 6,
   "id": "bc8918d9",
   "metadata": {},
   "outputs": [
    {
     "data": {
      "text/plain": [
       "[256, 256, 256, 256]"
      ]
     },
     "execution_count": 6,
     "metadata": {},
     "output_type": "execute_result"
    }
   ],
   "source": [
    "raw.black_level_per_channel"
   ]
  },
  {
   "cell_type": "code",
   "execution_count": 7,
   "id": "0929e1d1",
   "metadata": {},
   "outputs": [
    {
     "data": {
      "text/plain": [
       "[3.9341440200805664, 1.0, 1.3934131860733032, 0.0]"
      ]
     },
     "execution_count": 7,
     "metadata": {},
     "output_type": "execute_result"
    }
   ],
   "source": [
    "raw.camera_whitebalance"
   ]
  },
  {
   "cell_type": "code",
   "execution_count": null,
   "id": "fce5e52b",
   "metadata": {},
   "outputs": [],
   "source": []
  },
  {
   "cell_type": "code",
   "execution_count": 8,
   "id": "8aa486d8",
   "metadata": {},
   "outputs": [],
   "source": [
    "bayer = raw.raw_image_visible"
   ]
  },
  {
   "cell_type": "code",
   "execution_count": 9,
   "id": "69f284a8",
   "metadata": {},
   "outputs": [
    {
     "data": {
      "text/plain": [
       "(3040, 4056)"
      ]
     },
     "execution_count": 9,
     "metadata": {},
     "output_type": "execute_result"
    }
   ],
   "source": [
    "bayer = np.array(bayer)\n",
    "bayer.shape\n"
   ]
  },
  {
   "cell_type": "code",
   "execution_count": 10,
   "id": "9344cd1e",
   "metadata": {},
   "outputs": [],
   "source": [
    "# bayer[y][x] # 3040, 4056\n",
    "# 12330240 pixel \n",
    "# 3082560 pixel per bayer pattern (BGGR, pattern of 4)"
   ]
  },
  {
   "cell_type": "code",
   "execution_count": 16,
   "id": "bc09000e",
   "metadata": {},
   "outputs": [],
   "source": [
    "red = []\n",
    "green = []\n",
    "blue = []\n",
    "black_level = raw.black_level_per_channel\n",
    "for y in range(3040):\n",
    "    for x in range(4056):\n",
    "        if y%2==0:\n",
    "            if x%2==0:\n",
    "                blue.append(bayer[y][x]-black_level[0])\n",
    "            else:\n",
    "                green.append(bayer[y][x]-black_level[0])\n",
    "        else:\n",
    "            if x%2==0:\n",
    "                green.append(bayer[y][x]-black_level[0])\n",
    "            else:\n",
    "                red.append(bayer[y][x]-black_level[0])\n",
    "                \n",
    "        "
   ]
  },
  {
   "cell_type": "code",
   "execution_count": 19,
   "id": "581789c3",
   "metadata": {},
   "outputs": [
    {
     "data": {
      "image/png": "[encoded data removed]",
      "text/plain": [
       "<Figure size 720x1080 with 1 Axes>"
      ]
     },
     "metadata": {
      "needs_background": "light"
     },
     "output_type": "display_data"
    }
   ],
   "source": [
    "hist_bins = np.linspace(0, 4096, 257)\n",
    "\n",
    "\n",
    "plt.hist(np.log10(red) ,alpha=0.5, label='R', color='r')\n",
    "plt.hist(np.log10(green) ,alpha=0.5, label='G', color='g')\n",
    "plt.hist(np.log10(blue) ,alpha=0.5, label='B', color='b')\n",
    "plt.legend(loc='upper left')\n",
    "plt.show()"
   ]
  },
  {
   "cell_type": "code",
   "execution_count": null,
   "id": "942fe27d",
   "metadata": {},
   "outputs": [],
   "source": [
    "hist_r, bins_r = np.histogram(red, bins=256, range=[np.min(red), np.max(red)])\n",
    "hist_g, bins_g = np.histogram(green, bins=256, range=[np.min(green), np.max(green)])\n",
    "hist_b, bins_b = np.histogram(blue, bins=256, range=[np.min(blue), np.max(blue)])"
   ]
  },
  {
   "cell_type": "code",
   "execution_count": null,
   "id": "1a1800d9",
   "metadata": {},
   "outputs": [],
   "source": [
    "plt.hist(hist_r, bins=bins_r)\n",
    "plt.show()"
   ]
  },
  {
   "cell_type": "code",
   "execution_count": null,
   "id": "945d89de",
   "metadata": {},
   "outputs": [],
   "source": [
    "plt.hist(hist_g, bins=bins_g)\n",
    "plt.show()"
   ]
  },
  {
   "cell_type": "code",
   "execution_count": null,
   "id": "b9203562",
   "metadata": {},
   "outputs": [],
   "source": [
    "plt.hist(hist_b, bins=bins_b)\n",
    "plt.show()"
   ]
  },
  {
   "cell_type": "code",
   "execution_count": null,
   "id": "6aff2d4b",
   "metadata": {},
   "outputs": [],
   "source": []
  }
 ],
 "metadata": {
  "kernelspec": {
   "display_name": "Python 3 (ipykernel)",
   "language": "python",
   "name": "python3"
  },
  "language_info": {
   "codemirror_mode": {
    "name": "ipython",
    "version": 3
   },
   "file_extension": ".py",
   "mimetype": "text/x-python",
   "name": "python",
   "nbconvert_exporter": "python",
   "pygments_lexer": "ipython3",
   "version": "3.9.2"
  }
 },
 "nbformat": 4,
 "nbformat_minor": 5
}
